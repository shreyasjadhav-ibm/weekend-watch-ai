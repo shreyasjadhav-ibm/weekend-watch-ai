{
 "cells": [
  {
   "cell_type": "code",
   "execution_count": 1,
   "metadata": {},
   "outputs": [
    {
     "name": "stdout",
     "output_type": "stream",
     "text": [
      "Classification Report:\n",
      "              precision    recall  f1-score   support\n",
      "\n",
      "      Normal       0.97      1.00      0.99        37\n",
      "     Anomaly       1.00      0.97      0.99        36\n",
      "\n",
      "    accuracy                           0.99        73\n",
      "   macro avg       0.99      0.99      0.99        73\n",
      "weighted avg       0.99      0.99      0.99        73\n",
      "\n",
      "\n",
      "Sample Log Prediction: Anomaly\n",
      "Log Details: {'source': 'frontend', 'message': 'Uncaught TypeError: undefined is not a function', 'error_type': 'TypeError'}\n"
     ]
    }
   ],
   "source": [
    "import pandas as pd\n",
    "import numpy as np\n",
    "from sklearn.feature_extraction.text import TfidfVectorizer\n",
    "from sklearn.preprocessing import OneHotEncoder\n",
    "from sklearn.ensemble import RandomForestClassifier\n",
    "from sklearn.model_selection import train_test_split\n",
    "from sklearn.metrics import classification_report\n",
    "import pickle\n",
    "\n",
    "# Step 1: Load the dataset\n",
    "# Assuming logs.csv is in the same directory; adjust path if needed\n",
    "\n",
    "df = pd.read_csv('logs.csv')\n",
    "\n",
    "# Step 2: Preprocess the data\n",
    "# Handle missing error_type\n",
    "df['error_type'] = df['error_type'].fillna('None')\n",
    "\n",
    "# Text feature extraction for message\n",
    "tfidf = TfidfVectorizer(max_features=100)  # Limit to top 100 terms\n",
    "message_features = tfidf.fit_transform(df['message']).toarray()\n",
    "\n",
    "# Categorical feature encoding for source and error_type\n",
    "encoder = OneHotEncoder(sparse_output=False, handle_unknown='ignore')\n",
    "categorical_features = encoder.fit_transform(df[['source', 'error_type']])\n",
    "\n",
    "# Combine features\n",
    "X = np.concatenate([message_features, categorical_features], axis=1)\n",
    "y = df['label'].values\n",
    "\n",
    "# Step 3: Split and train the model\n",
    "X_train, X_test, y_train, y_test = train_test_split(X, y, test_size=0.2, random_state=42)\n",
    "model = RandomForestClassifier(n_estimators=100, class_weight='balanced', random_state=42)\n",
    "model.fit(X_train, y_train)\n",
    "\n",
    "# Step 4: Evaluate the model\n",
    "y_pred = model.predict(X_test)\n",
    "print(\"Classification Report:\")\n",
    "print(classification_report(y_test, y_pred, target_names=['Normal', 'Anomaly'], zero_division=0))\n",
    "\n",
    "# Step 5: Save model and preprocessors\n",
    "with open('model.pkl', 'wb') as f:\n",
    "    pickle.dump(model, f)\n",
    "with open('tfidf.pkl', 'wb') as f:\n",
    "    pickle.dump(tfidf, f)\n",
    "with open('encoder.pkl', 'wb') as f:\n",
    "    pickle.dump(encoder, f)\n",
    "\n",
    "# Step 6: Function to predict on a new log\n",
    "def predict_log(log):\n",
    "    # log: dict with keys 'source', 'message', 'error_type'\n",
    "    df_log = pd.DataFrame([log])\n",
    "    df_log['error_type'] = df_log['error_type'].fillna('None')\n",
    "    message_vec = tfidf.transform(df_log['message']).toarray()\n",
    "    cat_vec = encoder.transform(df_log[['source', 'error_type']])\n",
    "    features = np.concatenate([message_vec, cat_vec], axis=1)\n",
    "    prediction = model.predict(features)[0]\n",
    "    return 'Anomaly' if prediction == 1 else 'Normal'\n",
    "\n",
    "# Step 7: Test with a random log\n",
    "sample_log = {\n",
    "    'source': 'frontend',\n",
    "    'message': 'Uncaught TypeError: undefined is not a function',\n",
    "    'error_type': 'TypeError'\n",
    "}\n",
    "prediction = predict_log(sample_log)\n",
    "print(f\"\\nSample Log Prediction: {prediction}\")\n",
    "print(f\"Log Details: {sample_log}\")"
   ]
  },
  {
   "cell_type": "code",
   "execution_count": 3,
   "metadata": {},
   "outputs": [
    {
     "name": "stdout",
     "output_type": "stream",
     "text": [
      "SMTP test successful\n"
     ]
    }
   ],
   "source": [
    "import smtplib\n",
    "server = smtplib.SMTP('smtp.gmail.com', 587)\n",
    "server.starttls()\n",
    "server.login('amoggha03@gmail.com', 'ixpvyrcguxgvrnzl')\n",
    "server.quit()\n",
    "print(\"SMTP test successful\")"
   ]
  }
 ],
 "metadata": {
  "kernelspec": {
   "display_name": "Python 3",
   "language": "python",
   "name": "python3"
  },
  "language_info": {
   "codemirror_mode": {
    "name": "ipython",
    "version": 3
   },
   "file_extension": ".py",
   "mimetype": "text/x-python",
   "name": "python",
   "nbconvert_exporter": "python",
   "pygments_lexer": "ipython3",
   "version": "3.10.12"
  }
 },
 "nbformat": 4,
 "nbformat_minor": 2
}
